{
 "cells": [
  {
   "cell_type": "code",
   "execution_count": 1,
   "metadata": {},
   "outputs": [],
   "source": [
    "import pandas as pd\n",
    "import numpy as np\n",
    "import nltk # Natural Language Tool Kit\n",
    "from nltk.corpus import stopwords"
   ]
  },
  {
   "cell_type": "code",
   "execution_count": 2,
   "metadata": {},
   "outputs": [
    {
     "name": "stderr",
     "output_type": "stream",
     "text": [
      "c:\\users\\lenovo\\appdata\\local\\programs\\python\\python37\\lib\\site-packages\\IPython\\core\\interactiveshell.py:3063: DtypeWarning: Columns (11) have mixed types.Specify dtype option on import or set low_memory=False.\n",
      "  interactivity=interactivity, compiler=compiler, result=result)\n"
     ]
    }
   ],
   "source": [
    "dataset=pd.read_csv(\"cell_phone_and_accessories_review.csv\")"
   ]
  },
  {
   "cell_type": "code",
   "execution_count": 3,
   "metadata": {},
   "outputs": [
    {
     "name": "stdout",
     "output_type": "stream",
     "text": [
      "<class 'pandas.core.frame.DataFrame'>\n",
      "RangeIndex: 1128437 entries, 0 to 1128436\n",
      "Data columns (total 13 columns):\n",
      " #   Column          Non-Null Count    Dtype  \n",
      "---  ------          --------------    -----  \n",
      " 0   Unnamed: 0      1128437 non-null  int64  \n",
      " 1   overall         1128437 non-null  float64\n",
      " 2   verified        1128437 non-null  bool   \n",
      " 3   reviewTime      1128437 non-null  object \n",
      " 4   reviewerID      1128437 non-null  object \n",
      " 5   asin            1128437 non-null  object \n",
      " 6   style           605241 non-null   object \n",
      " 7   reviewerName    1128281 non-null  object \n",
      " 8   reviewText      1127669 non-null  object \n",
      " 9   summary         1127912 non-null  object \n",
      " 10  unixReviewTime  1128437 non-null  int64  \n",
      " 11  vote            92034 non-null    object \n",
      " 12  image           27107 non-null    object \n",
      "dtypes: bool(1), float64(1), int64(2), object(9)\n",
      "memory usage: 104.4+ MB\n"
     ]
    },
    {
     "data": {
      "text/html": [
       "<div>\n",
       "<style scoped>\n",
       "    .dataframe tbody tr th:only-of-type {\n",
       "        vertical-align: middle;\n",
       "    }\n",
       "\n",
       "    .dataframe tbody tr th {\n",
       "        vertical-align: top;\n",
       "    }\n",
       "\n",
       "    .dataframe thead th {\n",
       "        text-align: right;\n",
       "    }\n",
       "</style>\n",
       "<table border=\"1\" class=\"dataframe\">\n",
       "  <thead>\n",
       "    <tr style=\"text-align: right;\">\n",
       "      <th></th>\n",
       "      <th>Unnamed: 0</th>\n",
       "      <th>overall</th>\n",
       "      <th>verified</th>\n",
       "      <th>reviewTime</th>\n",
       "      <th>reviewerID</th>\n",
       "      <th>asin</th>\n",
       "      <th>style</th>\n",
       "      <th>reviewerName</th>\n",
       "      <th>reviewText</th>\n",
       "      <th>summary</th>\n",
       "      <th>unixReviewTime</th>\n",
       "      <th>vote</th>\n",
       "      <th>image</th>\n",
       "    </tr>\n",
       "  </thead>\n",
       "  <tbody>\n",
       "    <tr>\n",
       "      <th>0</th>\n",
       "      <td>0</td>\n",
       "      <td>5.0</td>\n",
       "      <td>True</td>\n",
       "      <td>08 4, 2014</td>\n",
       "      <td>A24E3SXTC62LJI</td>\n",
       "      <td>7508492919</td>\n",
       "      <td>{'Color:': ' Bling'}</td>\n",
       "      <td>Claudia Valdivia</td>\n",
       "      <td>Looks even better in person. Be careful to not...</td>\n",
       "      <td>Can't stop won't stop looking at it</td>\n",
       "      <td>1407110400</td>\n",
       "      <td>NaN</td>\n",
       "      <td>NaN</td>\n",
       "    </tr>\n",
       "    <tr>\n",
       "      <th>1</th>\n",
       "      <td>1</td>\n",
       "      <td>5.0</td>\n",
       "      <td>True</td>\n",
       "      <td>02 12, 2014</td>\n",
       "      <td>A269FLZCB4GIPV</td>\n",
       "      <td>7508492919</td>\n",
       "      <td>NaN</td>\n",
       "      <td>sarah ponce</td>\n",
       "      <td>When you don't want to spend a whole lot of ca...</td>\n",
       "      <td>1</td>\n",
       "      <td>1392163200</td>\n",
       "      <td>NaN</td>\n",
       "      <td>NaN</td>\n",
       "    </tr>\n",
       "    <tr>\n",
       "      <th>2</th>\n",
       "      <td>2</td>\n",
       "      <td>3.0</td>\n",
       "      <td>True</td>\n",
       "      <td>02 8, 2014</td>\n",
       "      <td>AB6CHQWHZW4TV</td>\n",
       "      <td>7508492919</td>\n",
       "      <td>NaN</td>\n",
       "      <td>Kai</td>\n",
       "      <td>so the case came on time, i love the design. I...</td>\n",
       "      <td>Its okay</td>\n",
       "      <td>1391817600</td>\n",
       "      <td>NaN</td>\n",
       "      <td>NaN</td>\n",
       "    </tr>\n",
       "    <tr>\n",
       "      <th>3</th>\n",
       "      <td>3</td>\n",
       "      <td>2.0</td>\n",
       "      <td>True</td>\n",
       "      <td>02 4, 2014</td>\n",
       "      <td>A1M117A53LEI8</td>\n",
       "      <td>7508492919</td>\n",
       "      <td>NaN</td>\n",
       "      <td>Sharon Williams</td>\n",
       "      <td>DON'T CARE FOR IT.  GAVE IT AS A GIFT AND THEY...</td>\n",
       "      <td>CASE</td>\n",
       "      <td>1391472000</td>\n",
       "      <td>NaN</td>\n",
       "      <td>NaN</td>\n",
       "    </tr>\n",
       "    <tr>\n",
       "      <th>4</th>\n",
       "      <td>4</td>\n",
       "      <td>4.0</td>\n",
       "      <td>True</td>\n",
       "      <td>02 3, 2014</td>\n",
       "      <td>A272DUT8M88ZS8</td>\n",
       "      <td>7508492919</td>\n",
       "      <td>NaN</td>\n",
       "      <td>Bella Rodriguez</td>\n",
       "      <td>I liked it because it was cute, but the studs ...</td>\n",
       "      <td>Cute!</td>\n",
       "      <td>1391385600</td>\n",
       "      <td>NaN</td>\n",
       "      <td>NaN</td>\n",
       "    </tr>\n",
       "  </tbody>\n",
       "</table>\n",
       "</div>"
      ],
      "text/plain": [
       "   Unnamed: 0  overall  verified   reviewTime      reviewerID        asin  \\\n",
       "0           0      5.0      True   08 4, 2014  A24E3SXTC62LJI  7508492919   \n",
       "1           1      5.0      True  02 12, 2014  A269FLZCB4GIPV  7508492919   \n",
       "2           2      3.0      True   02 8, 2014   AB6CHQWHZW4TV  7508492919   \n",
       "3           3      2.0      True   02 4, 2014   A1M117A53LEI8  7508492919   \n",
       "4           4      4.0      True   02 3, 2014  A272DUT8M88ZS8  7508492919   \n",
       "\n",
       "                  style      reviewerName  \\\n",
       "0  {'Color:': ' Bling'}  Claudia Valdivia   \n",
       "1                   NaN       sarah ponce   \n",
       "2                   NaN               Kai   \n",
       "3                   NaN   Sharon Williams   \n",
       "4                   NaN   Bella Rodriguez   \n",
       "\n",
       "                                          reviewText  \\\n",
       "0  Looks even better in person. Be careful to not...   \n",
       "1  When you don't want to spend a whole lot of ca...   \n",
       "2  so the case came on time, i love the design. I...   \n",
       "3  DON'T CARE FOR IT.  GAVE IT AS A GIFT AND THEY...   \n",
       "4  I liked it because it was cute, but the studs ...   \n",
       "\n",
       "                               summary  unixReviewTime vote image  \n",
       "0  Can't stop won't stop looking at it      1407110400  NaN   NaN  \n",
       "1                                    1      1392163200  NaN   NaN  \n",
       "2                             Its okay      1391817600  NaN   NaN  \n",
       "3                                 CASE      1391472000  NaN   NaN  \n",
       "4                                Cute!      1391385600  NaN   NaN  "
      ]
     },
     "execution_count": 3,
     "metadata": {},
     "output_type": "execute_result"
    }
   ],
   "source": [
    "dataset.info()\n",
    "dataset.head()"
   ]
  },
  {
   "cell_type": "code",
   "execution_count": 4,
   "metadata": {},
   "outputs": [
    {
     "data": {
      "text/plain": [
       "Unnamed: 0        1128437\n",
       "overall           1128437\n",
       "verified          1128437\n",
       "reviewTime        1128437\n",
       "reviewerID        1128437\n",
       "asin              1128437\n",
       "style              605241\n",
       "reviewerName      1128281\n",
       "reviewText        1127669\n",
       "summary           1127912\n",
       "unixReviewTime    1128437\n",
       "vote                92034\n",
       "image               27107\n",
       "dtype: int64"
      ]
     },
     "execution_count": 4,
     "metadata": {},
     "output_type": "execute_result"
    }
   ],
   "source": [
    "dataset.count()"
   ]
  },
  {
   "cell_type": "code",
   "execution_count": 5,
   "metadata": {},
   "outputs": [
    {
     "name": "stdout",
     "output_type": "stream",
     "text": [
      "<class 'pandas.core.frame.DataFrame'>\n",
      "RangeIndex: 1128437 entries, 0 to 1128436\n",
      "Data columns (total 13 columns):\n",
      " #   Column          Non-Null Count    Dtype  \n",
      "---  ------          --------------    -----  \n",
      " 0   Unnamed: 0      1128437 non-null  int64  \n",
      " 1   overall         1128437 non-null  float64\n",
      " 2   verified        1128437 non-null  bool   \n",
      " 3   reviewTime      1128437 non-null  object \n",
      " 4   reviewerID      1128437 non-null  object \n",
      " 5   asin            1128437 non-null  object \n",
      " 6   style           605241 non-null   object \n",
      " 7   reviewerName    1128281 non-null  object \n",
      " 8   reviewText      1127669 non-null  object \n",
      " 9   summary         1127912 non-null  object \n",
      " 10  unixReviewTime  1128437 non-null  int64  \n",
      " 11  vote            92034 non-null    object \n",
      " 12  image           27107 non-null    object \n",
      "dtypes: bool(1), float64(1), int64(2), object(9)\n",
      "memory usage: 104.4+ MB\n"
     ]
    }
   ],
   "source": [
    "dataset.info()"
   ]
  },
  {
   "cell_type": "code",
   "execution_count": 6,
   "metadata": {},
   "outputs": [
    {
     "data": {
      "text/html": [
       "<div>\n",
       "<style scoped>\n",
       "    .dataframe tbody tr th:only-of-type {\n",
       "        vertical-align: middle;\n",
       "    }\n",
       "\n",
       "    .dataframe tbody tr th {\n",
       "        vertical-align: top;\n",
       "    }\n",
       "\n",
       "    .dataframe thead th {\n",
       "        text-align: right;\n",
       "    }\n",
       "</style>\n",
       "<table border=\"1\" class=\"dataframe\">\n",
       "  <thead>\n",
       "    <tr style=\"text-align: right;\">\n",
       "      <th></th>\n",
       "      <th>overall</th>\n",
       "      <th>reviewerID</th>\n",
       "      <th>asin</th>\n",
       "      <th>reviewText</th>\n",
       "    </tr>\n",
       "  </thead>\n",
       "  <tbody>\n",
       "    <tr>\n",
       "      <th>0</th>\n",
       "      <td>5.0</td>\n",
       "      <td>A24E3SXTC62LJI</td>\n",
       "      <td>7508492919</td>\n",
       "      <td>Looks even better in person. Be careful to not...</td>\n",
       "    </tr>\n",
       "    <tr>\n",
       "      <th>1</th>\n",
       "      <td>5.0</td>\n",
       "      <td>A269FLZCB4GIPV</td>\n",
       "      <td>7508492919</td>\n",
       "      <td>When you don't want to spend a whole lot of ca...</td>\n",
       "    </tr>\n",
       "    <tr>\n",
       "      <th>2</th>\n",
       "      <td>3.0</td>\n",
       "      <td>AB6CHQWHZW4TV</td>\n",
       "      <td>7508492919</td>\n",
       "      <td>so the case came on time, i love the design. I...</td>\n",
       "    </tr>\n",
       "    <tr>\n",
       "      <th>3</th>\n",
       "      <td>2.0</td>\n",
       "      <td>A1M117A53LEI8</td>\n",
       "      <td>7508492919</td>\n",
       "      <td>DON'T CARE FOR IT.  GAVE IT AS A GIFT AND THEY...</td>\n",
       "    </tr>\n",
       "    <tr>\n",
       "      <th>4</th>\n",
       "      <td>4.0</td>\n",
       "      <td>A272DUT8M88ZS8</td>\n",
       "      <td>7508492919</td>\n",
       "      <td>I liked it because it was cute, but the studs ...</td>\n",
       "    </tr>\n",
       "    <tr>\n",
       "      <th>...</th>\n",
       "      <td>...</td>\n",
       "      <td>...</td>\n",
       "      <td>...</td>\n",
       "      <td>...</td>\n",
       "    </tr>\n",
       "    <tr>\n",
       "      <th>1128432</th>\n",
       "      <td>4.0</td>\n",
       "      <td>A1QWMCG1FNEP3A</td>\n",
       "      <td>B01HJC7N4C</td>\n",
       "      <td>Good for viewing. But doesn't have a button or...</td>\n",
       "    </tr>\n",
       "    <tr>\n",
       "      <th>1128433</th>\n",
       "      <td>5.0</td>\n",
       "      <td>A3FOBEJ9UVUTR3</td>\n",
       "      <td>B01HJC7N4C</td>\n",
       "      <td>I was given the Rockrok 3D VR Glasses Headset ...</td>\n",
       "    </tr>\n",
       "    <tr>\n",
       "      <th>1128434</th>\n",
       "      <td>5.0</td>\n",
       "      <td>AMUEAMKB4E33M</td>\n",
       "      <td>B01HJC7N4C</td>\n",
       "      <td>Super Fun! The RockRoc 3d vr headset is waaaay...</td>\n",
       "    </tr>\n",
       "    <tr>\n",
       "      <th>1128435</th>\n",
       "      <td>5.0</td>\n",
       "      <td>A2EV91MMOJ3IL4</td>\n",
       "      <td>B01HJC7N4C</td>\n",
       "      <td>Love it!\\n\\nI've had other VR glasses which al...</td>\n",
       "    </tr>\n",
       "    <tr>\n",
       "      <th>1128436</th>\n",
       "      <td>5.0</td>\n",
       "      <td>ARKQD9Z1VPOV2</td>\n",
       "      <td>B01HJH9IN6</td>\n",
       "      <td>i love it</td>\n",
       "    </tr>\n",
       "  </tbody>\n",
       "</table>\n",
       "<p>1127669 rows × 4 columns</p>\n",
       "</div>"
      ],
      "text/plain": [
       "         overall      reviewerID        asin  \\\n",
       "0            5.0  A24E3SXTC62LJI  7508492919   \n",
       "1            5.0  A269FLZCB4GIPV  7508492919   \n",
       "2            3.0   AB6CHQWHZW4TV  7508492919   \n",
       "3            2.0   A1M117A53LEI8  7508492919   \n",
       "4            4.0  A272DUT8M88ZS8  7508492919   \n",
       "...          ...             ...         ...   \n",
       "1128432      4.0  A1QWMCG1FNEP3A  B01HJC7N4C   \n",
       "1128433      5.0  A3FOBEJ9UVUTR3  B01HJC7N4C   \n",
       "1128434      5.0   AMUEAMKB4E33M  B01HJC7N4C   \n",
       "1128435      5.0  A2EV91MMOJ3IL4  B01HJC7N4C   \n",
       "1128436      5.0   ARKQD9Z1VPOV2  B01HJH9IN6   \n",
       "\n",
       "                                                reviewText  \n",
       "0        Looks even better in person. Be careful to not...  \n",
       "1        When you don't want to spend a whole lot of ca...  \n",
       "2        so the case came on time, i love the design. I...  \n",
       "3        DON'T CARE FOR IT.  GAVE IT AS A GIFT AND THEY...  \n",
       "4        I liked it because it was cute, but the studs ...  \n",
       "...                                                    ...  \n",
       "1128432  Good for viewing. But doesn't have a button or...  \n",
       "1128433  I was given the Rockrok 3D VR Glasses Headset ...  \n",
       "1128434  Super Fun! The RockRoc 3d vr headset is waaaay...  \n",
       "1128435  Love it!\\n\\nI've had other VR glasses which al...  \n",
       "1128436                                          i love it  \n",
       "\n",
       "[1127669 rows x 4 columns]"
      ]
     },
     "execution_count": 6,
     "metadata": {},
     "output_type": "execute_result"
    }
   ],
   "source": [
    "clean1=dataset.drop([\"Unnamed: 0\",\"verified\",\"reviewTime\",\"style\",\"reviewerName\",\"summary\",\"unixReviewTime\",\"vote\",\"image\"], axis=1)\n",
    "clean1.dropna(how='any',inplace=True)\n",
    "clean1"
   ]
  },
  {
   "cell_type": "code",
   "execution_count": 7,
   "metadata": {},
   "outputs": [
    {
     "data": {
      "text/plain": [
       "array(['A24E3SXTC62LJI', 'A269FLZCB4GIPV', 'AB6CHQWHZW4TV', ...,\n",
       "       'A1A4TR2FDGGXC7', 'A31VATK2B5ZOGL', 'AAWFS5U3VNU45'], dtype=object)"
      ]
     },
     "execution_count": 7,
     "metadata": {},
     "output_type": "execute_result"
    }
   ],
   "source": [
    "clean1.reviewerID.unique()"
   ]
  },
  {
   "cell_type": "code",
   "execution_count": 8,
   "metadata": {},
   "outputs": [
    {
     "data": {
      "text/plain": [
       "A3HFQE02MDPC6I    331\n",
       "A2LTYEYGKBYXRR    224\n",
       "A1FL151ER57VW3    220\n",
       "A3RDSN4SZKF3O     157\n",
       "A3AYSYSLHU26U9    157\n",
       "                 ... \n",
       "A658FRGJTXWGV       1\n",
       "A2QJFITZZSVKV7      1\n",
       "A1EDUUMZGQTULJ      1\n",
       "A3P7NNLXKNKTLQ      1\n",
       "A26UUVB58PJV1U      1\n",
       "Name: reviewerID, Length: 157195, dtype: int64"
      ]
     },
     "execution_count": 8,
     "metadata": {},
     "output_type": "execute_result"
    }
   ],
   "source": [
    "clean1[\"reviewerID\"].value_counts()"
   ]
  },
  {
   "cell_type": "code",
   "execution_count": 9,
   "metadata": {},
   "outputs": [
    {
     "data": {
      "text/plain": [
       "5.0    706432\n",
       "4.0    184351\n",
       "3.0     98214\n",
       "1.0     81506\n",
       "2.0     57166\n",
       "Name: overall, dtype: int64"
      ]
     },
     "execution_count": 9,
     "metadata": {},
     "output_type": "execute_result"
    }
   ],
   "source": [
    "clean1[\"overall\"].value_counts()"
   ]
  },
  {
   "cell_type": "code",
   "execution_count": 10,
   "metadata": {},
   "outputs": [
    {
     "data": {
      "text/plain": [
       "B00VH88CJ0    1682\n",
       "B005NF5NTK    1634\n",
       "B00X5RV14Y    1514\n",
       "B00P7N0320    1513\n",
       "B019PV2I3G    1508\n",
       "              ... \n",
       "B000YUE340       1\n",
       "B0016KFRPG       1\n",
       "B0014TAFPG       1\n",
       "B00140BK5O       1\n",
       "B0010S8S3C       1\n",
       "Name: asin, Length: 48186, dtype: int64"
      ]
     },
     "execution_count": 10,
     "metadata": {},
     "output_type": "execute_result"
    }
   ],
   "source": [
    "clean1[\"asin\"].value_counts()"
   ]
  },
  {
   "cell_type": "code",
   "execution_count": 11,
   "metadata": {},
   "outputs": [
    {
     "name": "stdout",
     "output_type": "stream",
     "text": [
      "<class 'pandas.core.frame.DataFrame'>\n",
      "Int64Index: 1127669 entries, 0 to 1128436\n",
      "Data columns (total 4 columns):\n",
      " #   Column      Non-Null Count    Dtype  \n",
      "---  ------      --------------    -----  \n",
      " 0   overall     1127669 non-null  float64\n",
      " 1   reviewerID  1127669 non-null  object \n",
      " 2   asin        1127669 non-null  object \n",
      " 3   reviewText  1127669 non-null  object \n",
      "dtypes: float64(1), object(3)\n",
      "memory usage: 43.0+ MB\n"
     ]
    }
   ],
   "source": [
    "clean1.info()"
   ]
  },
  {
   "cell_type": "code",
   "execution_count": 12,
   "metadata": {},
   "outputs": [
    {
     "name": "stdout",
     "output_type": "stream",
     "text": [
      "<class 'pandas.core.frame.DataFrame'>\n",
      "RangeIndex: 1127669 entries, 0 to 1127668\n",
      "Data columns (total 4 columns):\n",
      " #   Column      Non-Null Count    Dtype  \n",
      "---  ------      --------------    -----  \n",
      " 0   overall     1127669 non-null  float64\n",
      " 1   reviewerID  1127669 non-null  object \n",
      " 2   asin        1127669 non-null  object \n",
      " 3   reviewText  1127669 non-null  object \n",
      "dtypes: float64(1), object(3)\n",
      "memory usage: 34.4+ MB\n"
     ]
    }
   ],
   "source": [
    "clean1=clean1.reset_index(drop=True)\n",
    "clean1.info()"
   ]
  },
  {
   "cell_type": "code",
   "execution_count": 14,
   "metadata": {},
   "outputs": [],
   "source": [
    "def partition(x):\n",
    "    if x<3:\n",
    "        return \"negative\"\n",
    "    if x==3:\n",
    "        return \"neutral\"\n",
    "    return \"positive\"\n",
    "\n",
    "clean1['overall']=clean1['overall'].map(partition)"
   ]
  },
  {
   "cell_type": "code",
   "execution_count": 15,
   "metadata": {},
   "outputs": [],
   "source": [
    "clean1=clean1.drop_duplicates()"
   ]
  },
  {
   "cell_type": "code",
   "execution_count": 16,
   "metadata": {},
   "outputs": [
    {
     "data": {
      "text/plain": [
       "<bound method IndexOpsMixin.value_counts of 0          positive\n",
       "1          positive\n",
       "2           neutral\n",
       "3          negative\n",
       "4          positive\n",
       "             ...   \n",
       "1127664    positive\n",
       "1127665    positive\n",
       "1127666    positive\n",
       "1127667    positive\n",
       "1127668    positive\n",
       "Name: overall, Length: 1123322, dtype: object>"
      ]
     },
     "execution_count": 16,
     "metadata": {},
     "output_type": "execute_result"
    }
   ],
   "source": [
    "clean1[\"overall\"].value_counts"
   ]
  },
  {
   "cell_type": "code",
   "execution_count": 17,
   "metadata": {},
   "outputs": [
    {
     "name": "stdout",
     "output_type": "stream",
     "text": [
      "{'when', 'under', 'my', 'himself', 'for', 'd', 'be', 'aren', 't', 'and', 'down', 'm', 'not', 'isn', 'that', 'such', 'an', 'in', 'she', 'our', \"couldn't\", 'herself', 'out', 'same', 'itself', 'from', 'only', \"wasn't\", 'to', 'couldn', 'ain', 'themselves', 're', 'of', 'further', 'very', \"should've\", 'too', 'ourselves', 'again', 'a', 'shan', \"you've\", 'some', 'no', \"don't\", 'both', \"isn't\", 'has', 'them', 'didn', 'these', 'against', 'while', \"hasn't\", 'will', 'its', \"you'd\", 'ma', 'most', 'what', 'between', 'as', \"that'll\", 'don', 'mustn', 'wasn', 'or', 'o', 'by', 'mightn', 'below', 'your', 'until', \"shouldn't\", 'do', \"hadn't\", 'we', 'it', 'are', 'about', 'after', 'on', 'so', 'above', 'll', \"haven't\", 'he', 'their', 'wouldn', 'haven', 'have', 'him', 'where', 'those', 'needn', 'into', 'each', 'nor', 'yourself', \"mightn't\", 'hasn', \"you're\", 'his', 'does', 'before', 'once', 'had', 'over', 'other', 'at', 'theirs', 'i', 'doesn', 'shouldn', \"aren't\", 's', 'yours', 'whom', \"it's\", 'with', 'during', 'more', 'was', 'me', 'can', 'than', 'her', 'up', 'having', 'y', 'but', 'all', \"wouldn't\", 'now', 'weren', 'this', 'hers', 'been', \"needn't\", 'you', 'should', 'off', 'did', 'they', \"mustn't\", 'doing', \"won't\", 'if', 'because', 'yourselves', 'few', 'then', 'how', 'ours', 'myself', \"didn't\", 'which', 'who', 'hadn', 'there', \"weren't\", 'why', 'am', 'being', \"she's\", 'the', 'won', 'any', \"shan't\", 'own', 'just', 'through', 'here', 've', 'were', \"you'll\", \"doesn't\", 'is'}\n"
     ]
    }
   ],
   "source": [
    "stop_words = set(stopwords.words('english')) #set of stopwords\n",
    "print(stop_words)"
   ]
  },
  {
   "cell_type": "code",
   "execution_count": 18,
   "metadata": {},
   "outputs": [],
   "source": [
    "sno = nltk.stem.SnowballStemmer('english') #initialising the snowball stemmer"
   ]
  },
  {
   "cell_type": "code",
   "execution_count": 21,
   "metadata": {},
   "outputs": [],
   "source": [
    "import re\n",
    "def data_cleaning(series):\n",
    "    '''The function takes a Pandas Series object containing text in all the cells\n",
    "       And performs following Preprocessing steps on each cell:\n",
    "       1.\n",
    "       2. Clean text from punctuations and special characters\n",
    "       3. Retain only non-numeric Latin characters with lenght > 2\n",
    "       4. Remove stopwords from the sentence\n",
    "       5. Apply lower casing\n",
    "       6. Apply stemming to all the words in the sentence\n",
    "       \n",
    "       Return values:\n",
    "       1. final_string - List of cleaned sentences\n",
    "       2. list_of_sent - List of lists which will be used as input to the W2V model'''\n",
    "    \n",
    "    i = 0\n",
    "    string = \"\"\n",
    "    final_string = []    ## This list will contain cleaned sentences\n",
    "    list_of_sent = []    ## This is a list of lists used as input to the W2V model at a later stage\n",
    "    \n",
    "    for sent in series.values:\n",
    "        filtered_sent = []\n",
    "        sent = re.sub('[^a-zA-Z0-9\\n]', ' ', sent) # remove special characters\n",
    "        sent = re.sub('\\s+',' ', sent) # replace multiple spaces with single space\n",
    "        sent = sent.lower() # convert all characters to lower case\n",
    "        for word in sent.split():\n",
    "            if word not in stop_words and len(word)>2:\n",
    "                word = sno.stem(word) # Apply Stemming using snowball stemmer\n",
    "                filtered_sent.append(word)\n",
    "        list_of_sent.append(filtered_sent) # This list is used later\n",
    "        string = \" \".join(filtered_sent) # Cleaned sentence\n",
    "        final_string.append(string) # List of cleaned sentences\n",
    "        i+=1\n",
    "    return final_string, list_of_sent"
   ]
  },
  {
   "cell_type": "code",
   "execution_count": 24,
   "metadata": {},
   "outputs": [],
   "source": [
    "final_string, list_of_sent = data_cleaning(clean1['reviewText'])"
   ]
  },
  {
   "cell_type": "code",
   "execution_count": 25,
   "metadata": {},
   "outputs": [
    {
     "data": {
      "text/html": [
       "<div>\n",
       "<style scoped>\n",
       "    .dataframe tbody tr th:only-of-type {\n",
       "        vertical-align: middle;\n",
       "    }\n",
       "\n",
       "    .dataframe tbody tr th {\n",
       "        vertical-align: top;\n",
       "    }\n",
       "\n",
       "    .dataframe thead th {\n",
       "        text-align: right;\n",
       "    }\n",
       "</style>\n",
       "<table border=\"1\" class=\"dataframe\">\n",
       "  <thead>\n",
       "    <tr style=\"text-align: right;\">\n",
       "      <th></th>\n",
       "      <th>overall</th>\n",
       "      <th>reviewerID</th>\n",
       "      <th>asin</th>\n",
       "      <th>reviewText</th>\n",
       "      <th>CleanedText</th>\n",
       "    </tr>\n",
       "  </thead>\n",
       "  <tbody>\n",
       "    <tr>\n",
       "      <th>0</th>\n",
       "      <td>positive</td>\n",
       "      <td>A24E3SXTC62LJI</td>\n",
       "      <td>7508492919</td>\n",
       "      <td>Looks even better in person. Be careful to not...</td>\n",
       "      <td>look even better person care drop phone often ...</td>\n",
       "    </tr>\n",
       "    <tr>\n",
       "      <th>1</th>\n",
       "      <td>positive</td>\n",
       "      <td>A269FLZCB4GIPV</td>\n",
       "      <td>7508492919</td>\n",
       "      <td>When you don't want to spend a whole lot of ca...</td>\n",
       "      <td>want spend whole lot cash want great deal shop...</td>\n",
       "    </tr>\n",
       "    <tr>\n",
       "      <th>2</th>\n",
       "      <td>neutral</td>\n",
       "      <td>AB6CHQWHZW4TV</td>\n",
       "      <td>7508492919</td>\n",
       "      <td>so the case came on time, i love the design. I...</td>\n",
       "      <td>case came time love design actual miss stud no...</td>\n",
       "    </tr>\n",
       "    <tr>\n",
       "      <th>3</th>\n",
       "      <td>negative</td>\n",
       "      <td>A1M117A53LEI8</td>\n",
       "      <td>7508492919</td>\n",
       "      <td>DON'T CARE FOR IT.  GAVE IT AS A GIFT AND THEY...</td>\n",
       "      <td>care gave gift okay expect</td>\n",
       "    </tr>\n",
       "    <tr>\n",
       "      <th>4</th>\n",
       "      <td>positive</td>\n",
       "      <td>A272DUT8M88ZS8</td>\n",
       "      <td>7508492919</td>\n",
       "      <td>I liked it because it was cute, but the studs ...</td>\n",
       "      <td>like cute stud fall easili protect phone would...</td>\n",
       "    </tr>\n",
       "  </tbody>\n",
       "</table>\n",
       "</div>"
      ],
      "text/plain": [
       "    overall      reviewerID        asin  \\\n",
       "0  positive  A24E3SXTC62LJI  7508492919   \n",
       "1  positive  A269FLZCB4GIPV  7508492919   \n",
       "2   neutral   AB6CHQWHZW4TV  7508492919   \n",
       "3  negative   A1M117A53LEI8  7508492919   \n",
       "4  positive  A272DUT8M88ZS8  7508492919   \n",
       "\n",
       "                                          reviewText  \\\n",
       "0  Looks even better in person. Be careful to not...   \n",
       "1  When you don't want to spend a whole lot of ca...   \n",
       "2  so the case came on time, i love the design. I...   \n",
       "3  DON'T CARE FOR IT.  GAVE IT AS A GIFT AND THEY...   \n",
       "4  I liked it because it was cute, but the studs ...   \n",
       "\n",
       "                                         CleanedText  \n",
       "0  look even better person care drop phone often ...  \n",
       "1  want spend whole lot cash want great deal shop...  \n",
       "2  case came time love design actual miss stud no...  \n",
       "3                         care gave gift okay expect  \n",
       "4  like cute stud fall easili protect phone would...  "
      ]
     },
     "execution_count": 25,
     "metadata": {},
     "output_type": "execute_result"
    }
   ],
   "source": [
    "clean1['CleanedText']=final_string\n",
    "clean1.head()"
   ]
  },
  {
   "cell_type": "code",
   "execution_count": 26,
   "metadata": {},
   "outputs": [
    {
     "data": {
      "text/html": [
       "<div>\n",
       "<style scoped>\n",
       "    .dataframe tbody tr th:only-of-type {\n",
       "        vertical-align: middle;\n",
       "    }\n",
       "\n",
       "    .dataframe tbody tr th {\n",
       "        vertical-align: top;\n",
       "    }\n",
       "\n",
       "    .dataframe thead th {\n",
       "        text-align: right;\n",
       "    }\n",
       "</style>\n",
       "<table border=\"1\" class=\"dataframe\">\n",
       "  <thead>\n",
       "    <tr style=\"text-align: right;\">\n",
       "      <th></th>\n",
       "      <th>overall</th>\n",
       "      <th>reviewerID</th>\n",
       "      <th>asin</th>\n",
       "      <th>reviewText</th>\n",
       "      <th>CleanedText</th>\n",
       "    </tr>\n",
       "  </thead>\n",
       "  <tbody>\n",
       "    <tr>\n",
       "      <th>0</th>\n",
       "      <td>positive</td>\n",
       "      <td>A24E3SXTC62LJI</td>\n",
       "      <td>7508492919</td>\n",
       "      <td>Looks even better in person. Be careful to not...</td>\n",
       "      <td>look even better person care drop phone often ...</td>\n",
       "    </tr>\n",
       "    <tr>\n",
       "      <th>1</th>\n",
       "      <td>positive</td>\n",
       "      <td>A269FLZCB4GIPV</td>\n",
       "      <td>7508492919</td>\n",
       "      <td>When you don't want to spend a whole lot of ca...</td>\n",
       "      <td>want spend whole lot cash want great deal shop...</td>\n",
       "    </tr>\n",
       "    <tr>\n",
       "      <th>2</th>\n",
       "      <td>neutral</td>\n",
       "      <td>AB6CHQWHZW4TV</td>\n",
       "      <td>7508492919</td>\n",
       "      <td>so the case came on time, i love the design. I...</td>\n",
       "      <td>case came time love design actual miss stud no...</td>\n",
       "    </tr>\n",
       "    <tr>\n",
       "      <th>3</th>\n",
       "      <td>negative</td>\n",
       "      <td>A1M117A53LEI8</td>\n",
       "      <td>7508492919</td>\n",
       "      <td>DON'T CARE FOR IT.  GAVE IT AS A GIFT AND THEY...</td>\n",
       "      <td>care gave gift okay expect</td>\n",
       "    </tr>\n",
       "    <tr>\n",
       "      <th>4</th>\n",
       "      <td>positive</td>\n",
       "      <td>A272DUT8M88ZS8</td>\n",
       "      <td>7508492919</td>\n",
       "      <td>I liked it because it was cute, but the studs ...</td>\n",
       "      <td>like cute stud fall easili protect phone would...</td>\n",
       "    </tr>\n",
       "  </tbody>\n",
       "</table>\n",
       "</div>"
      ],
      "text/plain": [
       "    overall      reviewerID        asin  \\\n",
       "0  positive  A24E3SXTC62LJI  7508492919   \n",
       "1  positive  A269FLZCB4GIPV  7508492919   \n",
       "2   neutral   AB6CHQWHZW4TV  7508492919   \n",
       "3  negative   A1M117A53LEI8  7508492919   \n",
       "4  positive  A272DUT8M88ZS8  7508492919   \n",
       "\n",
       "                                          reviewText  \\\n",
       "0  Looks even better in person. Be careful to not...   \n",
       "1  When you don't want to spend a whole lot of ca...   \n",
       "2  so the case came on time, i love the design. I...   \n",
       "3  DON'T CARE FOR IT.  GAVE IT AS A GIFT AND THEY...   \n",
       "4  I liked it because it was cute, but the studs ...   \n",
       "\n",
       "                                         CleanedText  \n",
       "0  look even better person care drop phone often ...  \n",
       "1  want spend whole lot cash want great deal shop...  \n",
       "2  case came time love design actual miss stud no...  \n",
       "3                         care gave gift okay expect  \n",
       "4  like cute stud fall easili protect phone would...  "
      ]
     },
     "execution_count": 26,
     "metadata": {},
     "output_type": "execute_result"
    }
   ],
   "source": [
    "testing=clean1[:9999]\n",
    "testing.head()"
   ]
  },
  {
   "cell_type": "code",
   "execution_count": 28,
   "metadata": {},
   "outputs": [
    {
     "name": "stdout",
     "output_type": "stream",
     "text": [
      "<class 'pandas.core.frame.DataFrame'>\n",
      "Int64Index: 9999 entries, 0 to 13246\n",
      "Data columns (total 5 columns):\n",
      " #   Column       Non-Null Count  Dtype \n",
      "---  ------       --------------  ----- \n",
      " 0   overall      9999 non-null   object\n",
      " 1   reviewerID   9999 non-null   object\n",
      " 2   asin         9999 non-null   object\n",
      " 3   reviewText   9999 non-null   object\n",
      " 4   CleanedText  9999 non-null   object\n",
      "dtypes: object(5)\n",
      "memory usage: 468.7+ KB\n"
     ]
    }
   ],
   "source": [
    "testing.info()"
   ]
  },
  {
   "cell_type": "code",
   "execution_count": 29,
   "metadata": {},
   "outputs": [],
   "source": [
    "testing.to_csv('testing.csv')"
   ]
  },
  {
   "cell_type": "code",
   "execution_count": null,
   "metadata": {},
   "outputs": [],
   "source": []
  }
 ],
 "metadata": {
  "kernelspec": {
   "display_name": "Python 3",
   "language": "python",
   "name": "python3"
  },
  "language_info": {
   "codemirror_mode": {
    "name": "ipython",
    "version": 3
   },
   "file_extension": ".py",
   "mimetype": "text/x-python",
   "name": "python",
   "nbconvert_exporter": "python",
   "pygments_lexer": "ipython3",
   "version": "3.7.3"
  }
 },
 "nbformat": 4,
 "nbformat_minor": 4
}
